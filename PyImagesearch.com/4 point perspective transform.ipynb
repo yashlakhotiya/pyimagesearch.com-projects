{
 "cells": [
  {
   "cell_type": "code",
   "execution_count": 4,
   "metadata": {},
   "outputs": [],
   "source": [
    "#Double click on the point and then press 'a' to put the point in the pts array. Once done with all four points, press esc"
   ]
  },
  {
   "cell_type": "code",
   "execution_count": 1,
   "metadata": {},
   "outputs": [],
   "source": [
    "import numpy as np\n",
    "import cv2\n",
    "\n",
    "def order_points(pts):\n",
    "    rect = np.zeros((4,2),dtype=\"float32\")\n",
    "    s = np.sum(pts,axis=1)\n",
    "    rect[0] = pts[np.argmin(s)]\n",
    "    rect[2] = pts[np.argmax(s)]\n",
    "    \n",
    "    diff = np.diff(pts,axis=1)\n",
    "    rect[1] = pts[np.argmin(diff)]\n",
    "    rect[3] = pts[np.argmax(diff)]\n",
    "    \n",
    "    return rect\n",
    "\n",
    "def four_point_transform(image, pts):\n",
    "    rect = order_points(pts)\n",
    "    (tl,tr,br,bl) = rect\n",
    "    \n",
    "    widthA = np.sqrt(((br[0]-bl[0])**2)+((br[1]-bl[1])**2))\n",
    "    widthB = np.sqrt(((tr[0]-tl[0])**2)+((tr[1]-tl[1])**2))\n",
    "    maxWidth = max(int(widthA),int(widthB))\n",
    "    \n",
    "    heightA = np.sqrt(((tr[0]-br[0])**2)+((tr[1]-br[1])**2))\n",
    "    heightB = np.sqrt(((tl[0]-bl[0])**2)+((tl[1]-bl[1])**2))\n",
    "    maxHeight = max(int(heightA),int(heightB))\n",
    "         \n",
    "    dst = np.array([[0,0],[maxWidth-1,0],[maxWidth-1,maxHeight-1],[0,maxHeight-1]],dtype = \"float32\")\n",
    "    \n",
    "    M = cv2.getPerspectiveTransform(rect,dst)\n",
    "    warped = cv2.warpPerspective(image,M,(maxWidth,maxHeight))\n",
    "    \n",
    "    return warped\n",
    "                      \n",
    "ix,iy = -1,-1\n",
    "def get_Coord(event,x,y,flags,param):\n",
    "    global ix,iy\n",
    "    if(event == cv2.EVENT_LBUTTONDBLCLK):\n",
    "        ix,iy = x,y"
   ]
  },
  {
   "cell_type": "code",
   "execution_count": 2,
   "metadata": {},
   "outputs": [
    {
     "name": "stdout",
     "output_type": "stream",
     "text": [
      "283 59\n",
      "420 46\n",
      "437 181\n",
      "279 195\n"
     ]
    }
   ],
   "source": [
    "cap = cv2.VideoCapture(0)\n",
    "pts = []\n",
    "while(True):\n",
    "    cv2.setMouseCallback('image',get_Coord)\n",
    "    ret,image = cap.read()\n",
    "    cv2.imshow('image',image)\n",
    "    k = cv2.waitKey(20) & 0xFF\n",
    "    if(k == 27):\n",
    "        break\n",
    "    elif(k == ord('a')):\n",
    "        pts.append([ix,iy])\n",
    "        print(ix,iy)\n",
    "    \n",
    "while(True):\n",
    "    ret,image = cap.read()\n",
    "    cv2.imshow('image', image)\n",
    "    warped = four_point_transform(image,pts)\n",
    "    cv2.imshow('warped', warped)\n",
    "    if(cv2.waitKey(1) == 13):\n",
    "        break\n",
    "cap.release()\n",
    "cv2.destroyAllWindows()"
   ]
  }
 ],
 "metadata": {
  "kernelspec": {
   "display_name": "Python 3",
   "language": "python",
   "name": "python3"
  },
  "language_info": {
   "codemirror_mode": {
    "name": "ipython",
    "version": 3
   },
   "file_extension": ".py",
   "mimetype": "text/x-python",
   "name": "python",
   "nbconvert_exporter": "python",
   "pygments_lexer": "ipython3",
   "version": "3.7.4"
  }
 },
 "nbformat": 4,
 "nbformat_minor": 2
}
