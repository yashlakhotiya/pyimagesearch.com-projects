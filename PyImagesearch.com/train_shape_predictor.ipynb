{
 "cells": [
  {
   "cell_type": "code",
   "execution_count": null,
   "metadata": {},
   "outputs": [],
   "source": [
    "import multiprocessing\n",
    "import dlib\n",
    "\n",
    "training = \"ibug_300W_large_face_landmark_dataset\\ibug_300W_large_face_landmark_dataset\\labels_ibug_300W_train_eyes.xml\"\n",
    "model = \"ibug_300W_large_face_landmark_dataset\\eye_predictor.dat\"\n",
    "\n",
    "options = dlib.shape_predictor_training_options()\n",
    "options.tree_depth = 4\n",
    "options.nu = 0.1\n",
    "options.cascade_depth = 15\n",
    "options.feature_pool_size = 400\n",
    "options.num_test_splits = 50\n",
    "options.oversampling_amount = 5\n",
    "options.oversampling_translation_jitter = 0.1\n",
    "options.be_verbose = True\n",
    "options.num_threads = multiprocessing.cpu_count()\n",
    "\n",
    "dlib.train_shape_predictor(training,model,options)"
   ]
  },
  {
   "cell_type": "code",
   "execution_count": null,
   "metadata": {},
   "outputs": [],
   "source": []
  }
 ],
 "metadata": {
  "kernelspec": {
   "display_name": "Python 3",
   "language": "python",
   "name": "python3"
  },
  "language_info": {
   "codemirror_mode": {
    "name": "ipython",
    "version": 3
   },
   "file_extension": ".py",
   "mimetype": "text/x-python",
   "name": "python",
   "nbconvert_exporter": "python",
   "pygments_lexer": "ipython3",
   "version": "3.7.4"
  }
 },
 "nbformat": 4,
 "nbformat_minor": 2
}
