{
 "cells": [
  {
   "cell_type": "code",
   "execution_count": 1,
   "metadata": {},
   "outputs": [
    {
     "name": "stderr",
     "output_type": "stream",
     "text": [
      "usage: ipykernel_launcher.py [-h] -i INPUT -t OUTPUT\n",
      "ipykernel_launcher.py: error: the following arguments are required: -i/--input, -t/--output\n"
     ]
    },
    {
     "ename": "SystemExit",
     "evalue": "2",
     "output_type": "error",
     "traceback": [
      "An exception has occurred, use %tb to see the full traceback.\n",
      "\u001b[1;31mSystemExit\u001b[0m\u001b[1;31m:\u001b[0m 2\n"
     ]
    },
    {
     "name": "stderr",
     "output_type": "stream",
     "text": [
      "C:\\Users\\HP.HP-PC\\Anaconda3\\lib\\site-packages\\IPython\\core\\interactiveshell.py:3334: UserWarning: To exit: use 'exit', 'quit', or Ctrl-D.\n",
      "  warn(\"To exit: use 'exit', 'quit', or Ctrl-D.\", stacklevel=1)\n"
     ]
    }
   ],
   "source": [
    "import argparse\n",
    "import re\n",
    "\n",
    "ap = argparse.ArgumentParser()\n",
    "ap.add_argument(\"-i\", \"--input\", required=True, help=\"path to input dataset\")\n",
    "ap.add_argument(\"-t\", \"--output\", required=True, help=\"path to output dataset\")\n",
    "\n",
    "args = vars(ap.parse_args())"
   ]
  },
  {
   "cell_type": "code",
   "execution_count": 3,
   "metadata": {},
   "outputs": [],
   "source": [
    "import re\n",
    "ip_loc = \"MY OWN\\ibug_300W_large_face_landmark_dataset\\ibug_300W_large_face_landmark_dataset\\labels_ibug_300W_train.xml\"\n",
    "op_loc = \"MY OWN\\ibug_300W_large_face_landmark_dataset\\ibug_300W_large_face_landmark_dataset\\labels_ibug_300W_train_eyes.xml\"\n",
    "\n",
    "landmarks = set(list(range(36,48)))\n",
    "part = re.compile(\"part name='[0-9]+'\")\n",
    "\n",
    "rows = open(ip_loc).read().strip().split(\"\\n\")\n",
    "output = open(op_loc,\"w\")\n",
    "\n",
    "for row in rows:\n",
    "    parts = re.findall(part,row)\n",
    "    if(len(parts) == 0):\n",
    "        output.write(\"{}\\n\".format(row))\n",
    "    else:\n",
    "        attr = \"name='\"\n",
    "        i = row.find(attr)\n",
    "        j = row.find(\"'\",i+len(attr)+1)\n",
    "        name = int(row[i + len(attr):j])\n",
    "        \n",
    "        if name in landmarks:\n",
    "            output.write(\"{}\\n\".format(row))\n",
    "output.close()"
   ]
  }
 ],
 "metadata": {
  "kernelspec": {
   "display_name": "Python 3",
   "language": "python",
   "name": "python3"
  },
  "language_info": {
   "codemirror_mode": {
    "name": "ipython",
    "version": 3
   },
   "file_extension": ".py",
   "mimetype": "text/x-python",
   "name": "python",
   "nbconvert_exporter": "python",
   "pygments_lexer": "ipython3",
   "version": "3.7.4"
  }
 },
 "nbformat": 4,
 "nbformat_minor": 2
}
