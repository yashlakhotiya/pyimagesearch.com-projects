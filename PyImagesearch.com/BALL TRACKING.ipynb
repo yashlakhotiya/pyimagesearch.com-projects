{
 "cells": [
  {
   "cell_type": "code",
   "execution_count": 1,
   "metadata": {},
   "outputs": [],
   "source": [
    "import cv2\n",
    "import numpy as np\n",
    "import imutils\n",
    "from collections import deque\n",
    "import time\n",
    "from imutils.video import VideoStream"
   ]
  },
  {
   "cell_type": "code",
   "execution_count": 2,
   "metadata": {},
   "outputs": [],
   "source": [
    "greenLower = (29,86,6)\n",
    "greenUpper = (64,255,255)\n",
    "pts = deque(maxlen=100)\n",
    "cap = cv2.VideoCapture(0)\n",
    "time.sleep(2.0)\n",
    "\n",
    "while(True):\n",
    "    ret,frame = cap.read()\n",
    "    if(frame is None):\n",
    "        break\n",
    "    frame = imutils.resize(frame,width=600)\n",
    "    blurred = cv2.GaussianBlur(frame,(11,11),0)\n",
    "    hsv = cv2.cvtColor(blurred,cv2.COLOR_BGR2HSV)\n",
    "    \n",
    "    mask = cv2.inRange(hsv,greenLower,greenUpper)\n",
    "    mask = cv2.erode(mask,None,iterations=2)\n",
    "    mask = cv2.dilate(mask,None,iterations=2)\n",
    "    \n",
    "    cnts = cv2.findContours(mask,cv2.RETR_EXTERNAL,cv2.CHAIN_APPROX_SIMPLE)\n",
    "    cnts = imutils.grab_contours(cnts)\n",
    "    center = None\n",
    "\n",
    "    if(len(cnts) > 0):\n",
    "        c = max(cnts, key=cv2.contourArea)\n",
    "        ((x,y),radius) = cv2.minEnclosingCircle(c)\n",
    "        M = cv2.moments(c)\n",
    "        center = (int(M['m10']/M['m00']),int(M['m01']/M['m00']))\n",
    "        if(radius > 10):\n",
    "            cv2.circle(frame,(int(x),int(y)),int(radius),(0,255,255),2)\n",
    "            cv2.circle(frame,center,5,(0,0,255),-1)\n",
    "    pts.appendleft(center)\n",
    "    \n",
    "    for i in range(1,len(pts)):\n",
    "        if(pts[i-1] is None or pts[i] is None):\n",
    "            continue\n",
    "        thickness = int(np.sqrt(100/float(i+1))*2.5)\n",
    "        cv2.line(frame,pts[i-1],pts[i],(0,0,255),thickness)\n",
    "    frame =  cv2.flip(frame,1)\n",
    "    cv2.imshow(\"frame\",frame)\n",
    "    if(cv2.waitKey(1) == 13):\n",
    "        cap.release()\n",
    "        break\n",
    "cv2.destroyAllWindows()"
   ]
  }
 ],
 "metadata": {
  "celltoolbar": "Raw Cell Format",
  "kernelspec": {
   "display_name": "Python 3",
   "language": "python",
   "name": "python3"
  },
  "language_info": {
   "codemirror_mode": {
    "name": "ipython",
    "version": 3
   },
   "file_extension": ".py",
   "mimetype": "text/x-python",
   "name": "python",
   "nbconvert_exporter": "python",
   "pygments_lexer": "ipython3",
   "version": "3.7.4"
  }
 },
 "nbformat": 4,
 "nbformat_minor": 2
}
