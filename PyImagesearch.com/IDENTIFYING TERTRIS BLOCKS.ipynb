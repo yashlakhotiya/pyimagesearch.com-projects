{
 "cells": [
  {
   "cell_type": "code",
   "execution_count": 6,
   "metadata": {},
   "outputs": [
    {
     "name": "stdout",
     "output_type": "stream",
     "text": [
      "Contour #1 -- aspect_ratio=1.48, extent=0.66, solidity=0.81\n",
      "Contour #2 -- aspect_ratio=1.47, extent=0.65, solidity=0.80\n",
      "Contour #3 -- aspect_ratio=3.76, extent=0.96, solidity=1.00\n",
      "Contour #4 -- aspect_ratio=1.00, extent=0.97, solidity=1.00\n",
      "Contour #5 -- aspect_ratio=1.49, extent=0.63, solidity=0.79\n",
      "Contour #6 -- aspect_ratio=1.49, extent=0.63, solidity=0.79\n"
     ]
    }
   ],
   "source": [
    "import numpy as np\n",
    "import cv2\n",
    "import imutils\n",
    "\n",
    "image = cv2.imread(\"contours_tetris_blocks.png\")\n",
    "gray = cv2.cv2.cvtColor(image,cv2.COLOR_BGR2GRAY)\n",
    "ret,thresh = cv2.threshold(gray, 225, 255, cv2.THRESH_BINARY_INV)\n",
    "\n",
    "cv2.imshow(\"image\",image)\n",
    "cv2.imshow(\"threshold\",thresh)\n",
    "\n",
    "cnts = cv2.findContours(thresh.copy(), cv2.RETR_EXTERNAL, cv2.CHAIN_APPROX_SIMPLE)\n",
    "cnts = imutils.grab_contours(cnts)\n",
    "\n",
    "hullImage = np.zeros(gray.shape[:2], dtype = \"uint8\")\n",
    "\n",
    "for (i,c) in enumerate(cnts):\n",
    "    area = cv2.contourArea(c)\n",
    "    (x,y,w,h) = cv2.boundingRect(c)\n",
    "    \n",
    "    aspectRatio = w/float(h)\n",
    "    \n",
    "    extent = area/float(w*h)\n",
    "    \n",
    "    hull = cv2.convexHull(c)\n",
    "    hullArea = cv2.contourArea(hull)\n",
    "    solidity = area/float(hullArea)\n",
    "    \n",
    "    cv2.drawContours(hullImage, [hull], -1, 255, -1)\n",
    "    cv2.drawContours(image, [c], -1, (240,0,159), 3)\n",
    "    \n",
    "    shape = \"\"\n",
    "    \n",
    "    if(aspectRatio >= 0.98 and aspectRatio <= 1.02):\n",
    "        shape = \"square\"\n",
    "    elif(aspectRatio >= 3.0):\n",
    "        shape = \"rectangle\"\n",
    "    elif(extent < 0.65):\n",
    "        shape = \"L-piece\"\n",
    "    elif(solidity > 0.80):\n",
    "        shape = \"Z-piece\"\n",
    "    \n",
    "    cv2.putText(image, shape, (x,y-10), cv2.FONT_HERSHEY_SIMPLEX, 0.5, (240,0,159), 2)\n",
    "    \n",
    "    print(\"Contour #{} -- aspect_ratio={:.2f}, extent={:.2f}, solidity={:.2f}\".format(i + 1, aspectRatio, extent, solidity))\n",
    "    \n",
    "    cv2.imshow(\"Convex Hull\", hullImage)\n",
    "    cv2.imshow(\"Image\", image)\n",
    "    cv2.waitKey(0)\n",
    "    \n",
    "    cv2.destroyAllWindows()"
   ]
  }
 ],
 "metadata": {
  "kernelspec": {
   "display_name": "Python 3",
   "language": "python",
   "name": "python3"
  },
  "language_info": {
   "codemirror_mode": {
    "name": "ipython",
    "version": 3
   },
   "file_extension": ".py",
   "mimetype": "text/x-python",
   "name": "python",
   "nbconvert_exporter": "python",
   "pygments_lexer": "ipython3",
   "version": "3.7.4"
  }
 },
 "nbformat": 4,
 "nbformat_minor": 2
}
