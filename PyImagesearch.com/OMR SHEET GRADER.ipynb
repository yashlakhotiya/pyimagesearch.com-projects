{
 "cells": [
  {
   "cell_type": "code",
   "execution_count": 82,
   "metadata": {},
   "outputs": [],
   "source": [
    "import numpy as np\n",
    "import cv2\n",
    "import imutils\n",
    "from imutils.perspective import four_point_transform\n",
    "from imutils import contours\n",
    "\n",
    "ANSWER_KEY = {0:1,1:4,2:0,3:3,4:1}"
   ]
  },
  {
   "cell_type": "markdown",
   "metadata": {},
   "source": [
    "# Find Edges and Contours"
   ]
  },
  {
   "cell_type": "code",
   "execution_count": 108,
   "metadata": {},
   "outputs": [],
   "source": [
    "omr_bgr = cv2.imread(\"images/omr_test_01.png\")\n",
    "#cv2.imshow(\"omr_bgr\",omr_bgr)\n",
    "#cv2.waitKey(0)\n",
    "#cv2.destroyAllWindows()\n",
    "omr_gray = cv2.cvtColor(omr_bgr,cv2.COLOR_BGR2GRAY)\n",
    "omr_blur = cv2.GaussianBlur(omr_gray,(5,5),0)\n",
    "omr_edge = cv2.Canny(omr_blur,75,200)\n",
    "\n",
    "cnts = cv2.findContours(omr_edge.copy(),cv2.RETR_EXTERNAL,cv2.CHAIN_APPROX_SIMPLE)\n",
    "cnts = imutils.grab_contours(cnts)\n",
    "docContour = []\n",
    "if(len(cnts) > 0):\n",
    "    cnts = sorted(cnts, key=cv2.contourArea, reverse=True)\n",
    "    \n",
    "    for c in cnts:\n",
    "        peri = cv2.arcLength(c,True)\n",
    "        approx = cv2.approxPolyDP(c,0.02*peri,True)\n",
    "        \n",
    "        if(len(approx) == 4):\n",
    "            docContour = approx\n",
    "            break"
   ]
  },
  {
   "cell_type": "markdown",
   "metadata": {},
   "source": [
    "# Apply Perspective Tranform"
   ]
  },
  {
   "cell_type": "code",
   "execution_count": 109,
   "metadata": {},
   "outputs": [],
   "source": [
    "paper = four_point_transform(omr_bgr,docContour.reshape(4,2))\n",
    "warped = four_point_transform(omr_gray,docContour.reshape(4,2))"
   ]
  },
  {
   "cell_type": "markdown",
   "metadata": {},
   "source": [
    "# Otsu's Thresholding"
   ]
  },
  {
   "cell_type": "code",
   "execution_count": 118,
   "metadata": {},
   "outputs": [],
   "source": [
    "_,thresh = cv2.threshold(warped,0,255,cv2.THRESH_BINARY_INV | cv2.THRESH_OTSU)\n",
    "#kernel = np.ones((2,2),np.uint8)\n",
    "#thresh = cv2.erode(thresh,kernel,iterations=2)\n",
    "#thresh = cv2.dilate(thresh,kernel,iterations=7)\n",
    "#thresh == cv2.morphologyEx(thresh,cv2.MORPH_CLOSE,kernel)\n",
    "cv2.imshow(\"threshold\",thresh)\n",
    "cv2.waitKey(0)\n",
    "cv2.destroyAllWindows()"
   ]
  },
  {
   "cell_type": "markdown",
   "metadata": {},
   "source": [
    "# Find contours in threshold image"
   ]
  },
  {
   "cell_type": "code",
   "execution_count": 119,
   "metadata": {},
   "outputs": [],
   "source": [
    "cnts = cv2.findContours(thresh.copy(),cv2.RETR_EXTERNAL,cv2.CHAIN_APPROX_SIMPLE)\n",
    "cnts = imutils.grab_contours(cnts)\n",
    "\n",
    "bubbleContours = []\n",
    "\n",
    "for c in cnts:\n",
    "    (x,y,w,h) = cv2.boundingRect(c)\n",
    "    aspect_ratio =  w/float(h)\n",
    "    \n",
    "    if(w >= 20 and h >= 20 and aspect_ratio >= 0.9 and aspect_ratio <= 1.1):\n",
    "        bubbleContours.append(c)\n",
    "a = warped.copy()\n",
    "cv2.drawContours(a,bubbleContours,-1,(255,0,0),2)\n",
    "cv2.imshow(\"a\",a)\n",
    "cv2.waitKey(0)\n",
    "cv2.destroyAllWindows()"
   ]
  },
  {
   "cell_type": "markdown",
   "metadata": {},
   "source": [
    "# Sort the contours top to bottom"
   ]
  },
  {
   "cell_type": "code",
   "execution_count": 136,
   "metadata": {},
   "outputs": [],
   "source": [
    "bubbleContours = contours.sort_contours(bubbleContours,method = \"top-to-bottom\")[0]\n",
    "correct = 0\n",
    "a = paper.copy()\n",
    "cv2.imshow(\"a\",a)\n",
    "cv2.waitKey(0)\n",
    "cv2.destroyAllWindows()\n",
    "for (q,i) in enumerate(np.arange(0,len(bubbleContours),5)):\n",
    "    cnts = contours.sort_contours(bubbleContours[i:i+5])[0]\n",
    "    bubbled = None\n",
    "    for (j,c) in enumerate(cnts):\n",
    "        mask = np.zeros(thresh.shape, dtype=\"uint8\")\n",
    "        cv2.drawContours(mask,[c],-1,255,-1)\n",
    "        mask = cv2.bitwise_and(thresh, thresh, mask=mask)\n",
    "        total = cv2.countNonZero(mask)\n",
    "        cv2.imshow(\"a\",mask)\n",
    "        cv2.waitKey(0)\n",
    "        cv2.destroyAllWindows()\n",
    "        if bubbled is None or total > bubbled[0]:\n",
    "            bubbled = (total,j)\n",
    "    color = (0,0,255)\n",
    "    k = ANSWER_KEY[q]\n",
    "    if(k == bubbled[1]):\n",
    "        color = (0,255,0)\n",
    "        correct += 1\n",
    "    cv2.drawContours(a,[cnts[k]],-1,color,3)\n",
    "    cv2.imshow(\"a\",a)\n",
    "    cv2.waitKey(0)\n",
    "    cv2.destroyAllWindows()"
   ]
  },
  {
   "cell_type": "code",
   "execution_count": 139,
   "metadata": {},
   "outputs": [],
   "source": [
    "score = (correct / 5.0) *100\n",
    "cv2.putText(paper, \"{:.2f}%\".format(score),(10,30),cv2.FONT_HERSHEY_SIMPLEX,0.9,(0,0,255),2)\n",
    "cv2.imshow(\"exam\",paper)\n",
    "cv2.waitKey(0)\n",
    "cv2.destroyAllWindows()"
   ]
  }
 ],
 "metadata": {
  "kernelspec": {
   "display_name": "Python 3",
   "language": "python",
   "name": "python3"
  },
  "language_info": {
   "codemirror_mode": {
    "name": "ipython",
    "version": 3
   },
   "file_extension": ".py",
   "mimetype": "text/x-python",
   "name": "python",
   "nbconvert_exporter": "python",
   "pygments_lexer": "ipython3",
   "version": "3.7.4"
  }
 },
 "nbformat": 4,
 "nbformat_minor": 2
}
