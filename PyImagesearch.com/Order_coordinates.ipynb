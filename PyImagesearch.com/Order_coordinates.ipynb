{
 "cells": [
  {
   "cell_type": "code",
   "execution_count": 21,
   "metadata": {},
   "outputs": [],
   "source": [
    "import cv2\n",
    "import numpy as np\n",
    "import imutils\n",
    "from imutils import perspective\n",
    "from imutils import contours\n",
    "\n",
    "def order_pts_old(pts):\n",
    "    rect = np.zeros((4,2),dtype = \"float32\")\n",
    "    s = pts.sum(axis=1)\n",
    "    rect[0] = pts[np.argmin(s)]\n",
    "    rect[2] = pts[np.argmax(s)]\n",
    "    \n",
    "    diff = pts.diff(axis=1)\n",
    "    rect[1] = pts[np.argmin(diff)]\n",
    "    rect[3] = pts[np.argmax(diff)]\n",
    "    \n",
    "    return rect"
   ]
  },
  {
   "cell_type": "markdown",
   "metadata": {},
   "source": [
    "# Better implemention of order_pts_old() funtion"
   ]
  },
  {
   "cell_type": "code",
   "execution_count": 22,
   "metadata": {},
   "outputs": [],
   "source": [
    "from scipy.spatial import distance as dist\n",
    "import numpy as np\n",
    "import cv2\n",
    "\n",
    "def order_pts(pts):\n",
    "    xSorted = pts[np.argsort(pts[:,0]),:]\n",
    "    leftMost = xSorted[:2,:]\n",
    "    rightMost = xSorted[2:,:]\n",
    "    leftMost = leftMost[np.argsort(leftMost[:,1]),:]\n",
    "    (tl,bl) = leftMost\n",
    "    D = dist.cdist(tl[np.newaxis], rightmost, \"euclidean\")[0]\n",
    "    (br,tr) = rightMost[np.argsort(D)[::-1],:]\n",
    "    return np.array([tl,tr,br,bl], dtype=\"float32\")\n"
   ]
  },
  {
   "cell_type": "code",
   "execution_count": 23,
   "metadata": {},
   "outputs": [],
   "source": [
    "cap = cv2.VideoCapture(0)\n",
    "while(True):\n",
    "    ret,frame = cap.read()\n",
    "    gray = cv2.cvtColor(frame,cv2.COLOR_BGR2GRAY)\n",
    "    blur = cv2.GaussianBlur(gray,(7,7),0)\n",
    "    \n",
    "    edged = cv2.Canny(blur,50,100)\n",
    "    edged = cv2.dilate(edged, None, iterations=1)\n",
    "    edged = cv2.erode(edged, None, iterations=1)\n",
    "    \n",
    "    cnts = cv2.findContours(edged.copy(), cv2.RETR_EXTERNAL, cv2.CHAIN_APPROX_SIMPLE)\n",
    "    cnts = imutils.grab_contours(cnts)\n",
    "    \n",
    "    (cnts,_) = contours.sort_contours(cnts)\n",
    "    colors = ((0,0,255),(240,0,159),(255,0,0),(255,255,0))\n",
    "    \n",
    "    for (i,c) in enumerate(cnts):\n",
    "        if(cv2.contourArea(c) < 100):\n",
    "            continue\n",
    "            \n",
    "        box = cv2.minAreaRect(c)\n",
    "        box = cv2.boxPoints(box)\n",
    "        box = np.array(box, dtype=\"int\")\n",
    "        \n",
    "        cv2.drawContours(frame,[c],-1,(0,255,0),2)\n",
    "        cv2.drawContours(frame,[box],-1,(0,255,0),2)\n",
    "        \n",
    "        rect = perspective.order_points(box)\n",
    "        \n",
    "        for ((x,y),color) in zip(rect, colors):\n",
    "            cv2.circle(frame, (int(x),int(y)), 5, color, -1)\n",
    "        \n",
    "        cv2.putText(frame, \"Object #{}\".format(i+1),(int(rect[0][0] - 15), int(rect[0][1] - 15)),cv2.FONT_HERSHEY_SIMPLEX, 0.555,(255,255,255), 2)\n",
    "        \n",
    "    \n",
    "    cv2.imshow(\"image\",frame)\n",
    "    if(cv2.waitKey(1) == 13):\n",
    "        break\n",
    "cap.release()\n",
    "cv2.destroyAllWindows()"
   ]
  }
 ],
 "metadata": {
  "kernelspec": {
   "display_name": "Python 3",
   "language": "python",
   "name": "python3"
  },
  "language_info": {
   "codemirror_mode": {
    "name": "ipython",
    "version": 3
   },
   "file_extension": ".py",
   "mimetype": "text/x-python",
   "name": "python",
   "nbconvert_exporter": "python",
   "pygments_lexer": "ipython3",
   "version": "3.7.4"
  }
 },
 "nbformat": 4,
 "nbformat_minor": 2
}
