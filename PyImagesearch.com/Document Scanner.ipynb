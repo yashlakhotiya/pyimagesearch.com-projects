{
 "cells": [
  {
   "cell_type": "code",
   "execution_count": 1,
   "metadata": {},
   "outputs": [],
   "source": [
    "import numpy as np\n",
    "import cv2\n",
    "import imutils\n",
    "from skimage.filters import threshold_local\n",
    "\n",
    "def order_points(pts):\n",
    "    rect = np.zeros((4,2),dtype=\"float32\")\n",
    "    s = np.sum(pts,axis=1)\n",
    "    rect[0] = pts[np.argmin(s)]\n",
    "    rect[2] = pts[np.argmax(s)]\n",
    "    \n",
    "    diff = np.diff(pts,axis=1)\n",
    "    rect[1] = pts[np.argmin(diff)]\n",
    "    rect[3] = pts[np.argmax(diff)]\n",
    "    \n",
    "    return rect\n",
    "\n",
    "def four_point_transform(image, pts):\n",
    "    rect = order_points(pts)\n",
    "    (tl,tr,br,bl) = rect\n",
    "    \n",
    "    widthA = np.sqrt(((br[0]-bl[0])**2)+((br[1]-bl[1])**2))\n",
    "    widthB = np.sqrt(((tr[0]-tl[0])**2)+((tr[1]-tl[1])**2))\n",
    "    maxWidth = max(int(widthA),int(widthB))\n",
    "    \n",
    "    heightA = np.sqrt(((tr[0]-br[0])**2)+((tr[1]-br[1])**2))\n",
    "    heightB = np.sqrt(((tl[0]-bl[0])**2)+((tl[1]-bl[1])**2))\n",
    "    maxHeight = max(int(heightA),int(heightB))\n",
    "                      \n",
    "    dst = np.array([[0,0],[maxWidth-1,0],[maxWidth-1,maxHeight-1],[0,maxHeight-1]],dtype = \"float32\")\n",
    "    \n",
    "    M = cv2.getPerspectiveTransform(rect,dst)\n",
    "    warped = cv2.warpPerspective(image,M,(maxWidth,maxHeight))\n",
    "    \n",
    "    return warped"
   ]
  },
  {
   "cell_type": "markdown",
   "metadata": {},
   "source": [
    "# TAKE PICTURE"
   ]
  },
  {
   "cell_type": "code",
   "execution_count": 2,
   "metadata": {},
   "outputs": [],
   "source": [
    "cap = cv2.VideoCapture(0)\n",
    "while(True):\n",
    "    ret,image = cap.read()\n",
    "    show = cv2.flip(image,1)\n",
    "    cv2.imshow(\"press enter to click\",show)\n",
    "    if(cv2.waitKey(1) == 13):\n",
    "        break\n",
    "cap.release()\n",
    "cv2.destroyAllWindows()"
   ]
  },
  {
   "cell_type": "markdown",
   "metadata": {},
   "source": [
    "# LOAD IMAGE"
   ]
  },
  {
   "cell_type": "code",
   "execution_count": 4,
   "metadata": {},
   "outputs": [],
   "source": [
    "image = cv2.imread(\"scan.jpg\")\n",
    "cv2.imshow(\"img\",image)\n",
    "cv2.waitKey(0)\n",
    "cv2.destroyAllWindows()"
   ]
  },
  {
   "cell_type": "markdown",
   "metadata": {},
   "source": [
    "# EDGE DETECTION "
   ]
  },
  {
   "cell_type": "code",
   "execution_count": 5,
   "metadata": {},
   "outputs": [],
   "source": [
    "ratio = image.shape[0] / 500.0\n",
    "orig = image.copy()\n",
    "image = imutils.resize(image,height=500)\n",
    "\n",
    "gray = cv2.cvtColor(image,cv2.COLOR_BGR2GRAY)\n",
    "blur = cv2.GaussianBlur(gray,(5,5),0)\n",
    "edged = cv2.Canny(blur,10,100)\n",
    "cv2.imshow(\"blur\", blur)\n",
    "cv2.imshow(\"Edged\", edged)\n",
    "cv2.waitKey(0)\n",
    "cv2.destroyAllWindows()"
   ]
  },
  {
   "cell_type": "markdown",
   "metadata": {},
   "source": [
    "# CONTOUR DETECTION"
   ]
  },
  {
   "cell_type": "code",
   "execution_count": 6,
   "metadata": {},
   "outputs": [],
   "source": [
    "contours = cv2.findContours(edged.copy(),cv2.RETR_LIST,cv2.CHAIN_APPROX_SIMPLE)\n",
    "contours = imutils.grab_contours(contours)\n",
    "contours = sorted(contours, key = cv2.contourArea, reverse=True)[:5]\n",
    "screenCnt = None\n",
    "for c in contours:\n",
    "    peri = cv2.arcLength(c,True)\n",
    "    approx = cv2.approxPolyDP(c,0.05*peri,True)\n",
    "    a = image.copy()\n",
    "    cv2.drawContours(a,[approx],0,(0),2)\n",
    "    cv2.imshow(\"a\",a)\n",
    "    cv2.waitKey(0)\n",
    "    if(len(approx) == 4):\n",
    "        screenCnt = approx\n",
    "        break\n",
    "cv2.destroyAllWindows()\n",
    "cv2.drawContours(a,[screenCnt],-1,(0,255,0),2)\n",
    "cv2.imshow(\"a\",a)\n",
    "cv2.waitKey(0)\n",
    "cv2.destroyAllWindows()"
   ]
  },
  {
   "cell_type": "markdown",
   "metadata": {},
   "source": [
    "# APPLY PERSPECTIVE TRANSFORM AND THRESHOLD"
   ]
  },
  {
   "cell_type": "code",
   "execution_count": 7,
   "metadata": {},
   "outputs": [],
   "source": [
    "warped = four_point_transform(orig,screenCnt.reshape(4,2) * ratio)\n",
    "cv2.imshow(\"warped\",warped)\n",
    "warped_gray = cv2.cvtColor(warped,cv2.COLOR_BGR2GRAY)\n",
    "#T = threshold_local(warped_gray,11,offset=10,method=\"gaussian\")\n",
    "#scanned = (warped_gray > T).astype(\"uint8\")*255\n",
    "\n",
    "ret,thresh1 = cv2.threshold(warped_gray,195,255,cv2.THRESH_BINARY)\n",
    "thresh1_blur = cv2.GaussianBlur(thresh1,(3,3),0)\n",
    "scanned = cv2.adaptiveThreshold(thresh1_blur,255,cv2.ADAPTIVE_THRESH_MEAN_C,cv2.THRESH_BINARY,3,5)\n",
    "\n",
    "cv2.imshow(\"original\",imutils.resize(orig,height = 650))\n",
    "cv2.imshow(\"scanned\",imutils.resize(scanned,height = 650))\n",
    "cv2.waitKey(0)\n",
    "cv2.destroyAllWindows()"
   ]
  }
 ],
 "metadata": {
  "kernelspec": {
   "display_name": "Python 3",
   "language": "python",
   "name": "python3"
  },
  "language_info": {
   "codemirror_mode": {
    "name": "ipython",
    "version": 3
   },
   "file_extension": ".py",
   "mimetype": "text/x-python",
   "name": "python",
   "nbconvert_exporter": "python",
   "pygments_lexer": "ipython3",
   "version": "3.7.4"
  }
 },
 "nbformat": 4,
 "nbformat_minor": 2
}
