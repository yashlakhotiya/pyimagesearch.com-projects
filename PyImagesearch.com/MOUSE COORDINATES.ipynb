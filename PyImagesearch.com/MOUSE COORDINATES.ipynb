{
 "cells": [
  {
   "cell_type": "code",
   "execution_count": 1,
   "metadata": {},
   "outputs": [],
   "source": [
    "import cv2\n",
    "import numpy as np\n",
    "\n",
    "ix,iy = -1,-1\n",
    "\n",
    "def draw_circle(event,x,y,flags,param):\n",
    "    global ix,iy\n",
    "    if(event == cv2.EVENT_LBUTTONDOWN):\n",
    "        cv2.circle(img,(x,y),5,(255,0,0),-1)\n",
    "        ix,iy = x,y\n",
    "        \n",
    "img = np.zeros((512,512,3), np.uint8)\n",
    "cv2.namedWindow('image')\n",
    "cv2.setMouseCallback('image',draw_circle)\n",
    "\n",
    "while(1):\n",
    "    cv2.imshow('image',img)\n",
    "    k = cv2.waitKey(20) & 0xFF\n",
    "    if k == 27:\n",
    "        break\n",
    "    elif k == ord('a'):\n",
    "        print (ix,iy)\n",
    "cv2.destroyAllWindows()"
   ]
  },
  {
   "cell_type": "code",
   "execution_count": null,
   "metadata": {},
   "outputs": [],
   "source": [
    "cap = cv2.VideoCapture(0)\n",
    "pts\n",
    "while(True):\n",
    "    ret,image = cap.read()\n",
    "    clone = image.copy()\n",
    "    cv2.imshow('image', image)\n",
    "    warped = four_point_transform(image,pts)\n",
    "    cv2.imshow('warped', warped)\n",
    "    if(cv2.waitKet(1) == 13):\n",
    "        break\n",
    "cap.release()\n",
    "cv2.destroyAllWindows()"
   ]
  }
 ],
 "metadata": {
  "kernelspec": {
   "display_name": "Python 3",
   "language": "python",
   "name": "python3"
  },
  "language_info": {
   "codemirror_mode": {
    "name": "ipython",
    "version": 3
   },
   "file_extension": ".py",
   "mimetype": "text/x-python",
   "name": "python",
   "nbconvert_exporter": "python",
   "pygments_lexer": "ipython3",
   "version": "3.7.4"
  }
 },
 "nbformat": 4,
 "nbformat_minor": 2
}
