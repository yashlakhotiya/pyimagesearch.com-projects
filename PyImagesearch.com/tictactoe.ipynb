{
 "cells": [
  {
   "cell_type": "code",
   "execution_count": 1,
   "metadata": {},
   "outputs": [
    {
     "name": "stdout",
     "output_type": "stream",
     "text": [
      "0 (Contour #1) -- solidity=0.98\n",
      "X (Contour #2) -- solidity=0.60\n",
      "0 (Contour #3) -- solidity=0.98\n",
      "X (Contour #4) -- solidity=0.60\n",
      "X (Contour #5) -- solidity=0.60\n",
      "0 (Contour #6) -- solidity=0.98\n",
      "? (Contour #7) -- solidity=0.28\n"
     ]
    }
   ],
   "source": [
    "import cv2\n",
    "import numpy as np\n",
    "import imutils\n",
    "\n",
    "image = cv2.imread(\"contours_tictactoe.png\")\n",
    "gray = cv2.cv2.cvtColor(image,cv2.COLOR_BGR2GRAY)\n",
    "\n",
    "cnts = cv2.findContours(gray,cv2.RETR_EXTERNAL,cv2.CHAIN_APPROX_SIMPLE)\n",
    "cnts = imutils.grab_contours(cnts)\n",
    "\n",
    "for (i,c) in enumerate(cnts):\n",
    "    area = cv2.contourArea(c)\n",
    "    (x,y,w,h) = cv2.boundingRect(c)\n",
    "    \n",
    "    hull = cv2.convexHull(c)\n",
    "    \n",
    "    hullArea = cv2.contourArea(hull)\n",
    "    \n",
    "    solidity = area/float(hullArea)\n",
    "    \n",
    "    char = \"?\"\n",
    "    \n",
    "    if(solidity > 0.9 and solidity != 1):\n",
    "        char = \"0\"\n",
    "    elif(solidity > 0.5 and solidity != 1):\n",
    "        char = \"X\"\n",
    "    \n",
    "    if(char != \"?\"):\n",
    "        cv2.drawContours(image, [c], -1, (0,255,0), 3)\n",
    "        cv2.putText(image, char, (x, y-10), cv2.FONT_HERSHEY_SIMPLEX, 1.25, (0,255,0, 4))\n",
    "        \n",
    "    print(\"{} (Contour #{}) -- solidity={:.2f}\".format(char,i+1,solidity))\n",
    "\n",
    "cv2.imshow(\"image\",image)\n",
    "cv2.waitKey()\n",
    "cv2.destroyAllWindows()"
   ]
  }
 ],
 "metadata": {
  "kernelspec": {
   "display_name": "Python 3",
   "language": "python",
   "name": "python3"
  },
  "language_info": {
   "codemirror_mode": {
    "name": "ipython",
    "version": 3
   },
   "file_extension": ".py",
   "mimetype": "text/x-python",
   "name": "python",
   "nbconvert_exporter": "python",
   "pygments_lexer": "ipython3",
   "version": "3.7.4"
  }
 },
 "nbformat": 4,
 "nbformat_minor": 2
}
